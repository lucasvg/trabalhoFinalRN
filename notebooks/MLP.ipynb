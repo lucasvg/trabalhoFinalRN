{
 "cells": [
  {
   "cell_type": "markdown",
   "metadata": {},
   "source": [
    "# Introduction\n",
    "Uses one ETF.\n",
    "\n",
    "Model Inputs are indicators.\n",
    "\n",
    "Multi models with dynamic training\n",
    "\n",
    "# Results"
   ]
  },
  {
   "cell_type": "code",
   "execution_count": 1,
   "metadata": {},
   "outputs": [],
   "source": [
    "import pandas as pd\n",
    "from collections import Counter\n",
    "from sklearn.neural_network import MLPClassifier\n",
    "from sklearn.ensemble import RandomForestClassifier\n",
    "from sklearn import svm\n",
    "import datetime\n",
    "import backtrader as bt\n",
    "import sys\n",
    "sys.path.insert(0, '../code')\n",
    "import prepareDataV3 as util\n",
    "import utils\n",
    "import time\n",
    "import math\n",
    "import numpy as np\n",
    "# import seaborn as sns\n",
    "# import matplotlib.pyplot as pltNonConflict\n",
    "import re\n",
    "np.set_printoptions(precision=4)\n",
    "import itertools"
   ]
  },
  {
   "cell_type": "code",
   "execution_count": 2,
   "metadata": {},
   "outputs": [],
   "source": [
    "THRESHOLD = 0.00\n",
    "TEST_PART = 0.2\n",
    "IMAGE_PATH = '../output/'\n",
    "IMAGE_SUFIX  = '.png'\n",
    "RISK_TO_TRADE  = 0.01 # 0.01 = 1%\n",
    "\n",
    "NUMBER_OF_RUNS = 10\n",
    "DEBUG_VERBOSE = False\n",
    "\n",
    "TRAINING_AMOUNT = 1500 # number used at previous notebooks\n",
    "BIGGEST_INDICATOR_START_LOCKUP = 59\n",
    "BACKTEST_START_LOCKUP = TRAINING_AMOUNT + BIGGEST_INDICATOR_START_LOCKUP\n",
    "TRAINING_EXPIRE_IN = 60 # random number that goes till end of file\n",
    "\n",
    "TESTS = [\n",
    "    {\n",
    "        \"key\": \"MLP_Relu_EURUSDDaily\",\n",
    "        \"clf\": MLPClassifier(activation='relu', hidden_layer_sizes=(100)),\n",
    "        \"dataFileName\": \"EURUSDDaily\",\n",
    "    },\n",
    "    {\n",
    "        \"key\": \"MLP_Tanh_EURUSDDaily\",\n",
    "        \"clf\": MLPClassifier(activation='tanh', hidden_layer_sizes=(100)),\n",
    "        \"dataFileName\": \"EURUSDDaily\",\n",
    "    },\n",
    "    {\n",
    "        \"key\": \"MLP_Log_EURUSDDaily\",\n",
    "        \"clf\": MLPClassifier(activation='logistic', hidden_layer_sizes=(100)),\n",
    "        \"dataFileName\": \"EURUSDDaily\",\n",
    "    },\n",
    "]\n",
    "\n",
    "DEFAULT_DT_FORMAT = '%Y.%m.%d'\n",
    "DEFAULT_FROM_DATE = datetime.date(2010, 7, 1)\n",
    "\n",
    "# ENUM\n",
    "NEUTRAL = 1\n",
    "UP = 2\n",
    "DOWN = 0"
   ]
  },
  {
   "cell_type": "markdown",
   "metadata": {},
   "source": [
    "# Backtesting Strategy\n",
    "Model SVM Linear (https://scikit-learn.org/stable/modules/generated/sklearn.svm.LinearSVC.html#sklearn.svm.LinearSVC)"
   ]
  },
  {
   "cell_type": "code",
   "execution_count": 3,
   "metadata": {},
   "outputs": [],
   "source": [
    "class TestStrategy(bt.Strategy):\n",
    "    def __init__(self):\n",
    "        self.indicators = []\n",
    "        self.toMean = {\n",
    "            \"trainScores\": {\"data\": []},\n",
    "            \"testScores\": {\"data\": []},\n",
    "            \"forecasts\": [],\n",
    "        }\n",
    "\n",
    "        # just to set minimum_period and skip first instance\n",
    "        self.sma = bt.indicators.SimpleMovingAverage(period=BACKTEST_START_LOCKUP, plot=False)\n",
    "\n",
    "        # risk for the sizer\n",
    "        self.StandardDeviation = bt.indicators.StandardDeviation(plot=False)\n",
    "\n",
    "        self.indicators.append(bt.indicators.TrueRange(plot=False))\n",
    "        self.indicators.append(bt.indicators.UltimateOscillator(plot=False))\n",
    "        self.indicators.append(bt.indicators.DoubleExponentialMovingAverageOscillator(plot=False))\n",
    "        self.indicators.append(bt.indicators.AverageDirectionalMovementIndex(plot=False))\n",
    "        self.indicators.append(bt.indicators.HullMovingAverageOscillator(plot=False))\n",
    "        self.indicators.append(bt.indicators.RSI_EMA(plot=False))\n",
    "        self.indicators.append(bt.indicators.HurstExponent(plot=False))\n",
    "        self.indicators.append(bt.indicators.UpMove(plot=False))\n",
    "        self.indicators.append(bt.indicators.PlusDirectionalIndicator(plot=False))\n",
    "        \n",
    "    def trainModel(self):\n",
    "        start = time.time() \n",
    "        data, target = util.prepareDataForTraining(self.datas[0], TRAINING_AMOUNT, THRESHOLD, self.indicators)\n",
    "        # first model train\n",
    "        self.clf.fit(data, target)\n",
    "        end = time.time()\n",
    "        if(DEBUG_VERBOSE):\n",
    "            print(\n",
    "                'Training until:', datetime.date.fromordinal(int(self.datas[0].datetime[0])),\n",
    "                'Training Time:', \"%.2f\" % (end-start)\n",
    "            )\n",
    "        self.toMean['trainScores']['data'].append(self.clf.score(data, target))\n",
    "        \n",
    "    def checkTestScore(self):\n",
    "        data, target = util.prepareDataForTraining(self.datas[0], TRAINING_EXPIRE_IN, THRESHOLD, self.indicators)\n",
    "        self.toMean['testScores']['data'].append(self.clf.score(data, target))\n",
    "        self.toMean['forecasts'].append(self.clf.predict(data))\n",
    "\n",
    "    def predict(self):\n",
    "        data = util.getDataFromIndicatorsForPrediction(1, self.indicators)\n",
    "        prediction = self.clf.predict(data)[0]\n",
    "        return prediction\n",
    "\n",
    "    def nextstart(self):\n",
    "        self.trainModel()\n",
    "\n",
    "    def next(self):\n",
    "        if(len(self) % TRAINING_EXPIRE_IN) == 0:\n",
    "            self.checkTestScore()\n",
    "            self.trainModel()\n",
    "\n",
    "        prediction = self.predict()\n",
    "\n",
    "        positionSize = self.broker.getposition(self.data).size\n",
    "        if(prediction == DOWN and not positionSize < 0):\n",
    "            self.sell(size=None)\n",
    "        elif(prediction == UP and not positionSize > 0):\n",
    "            self.buy(size=None)\n",
    "\n",
    "    def stop(self):\n",
    "        if(DEBUG_VERBOSE):\n",
    "            print(self.toMean['forecasts'])\n",
    "        for label, measurements in self.toMean.items():\n",
    "            if 'data' not in measurements:\n",
    "                continue\n",
    "            if(DEBUG_VERBOSE):\n",
    "                print(label, np.mean(measurements['data']))\n",
    "    def notify_order(self, order):\n",
    "        if(order.status in [order.Canceled, order.Margin, order.Rejected]):\n",
    "            print(order)\n",
    "            print(self.broker.getposition(data))\n"
   ]
  },
  {
   "cell_type": "code",
   "execution_count": 4,
   "metadata": {},
   "outputs": [],
   "source": [
    "class MySizer(bt.Sizer):\n",
    "    def _getsizing(self, comminfo, cash, data, isbuy):\n",
    "        sizeNecessaryToRevert = abs(self.broker.getposition(data).size)\n",
    "        tradingSize = self.getSizeOnStandardDeviation(self.strategy.StandardDeviation[0])\n",
    "        return tradingSize + sizeNecessaryToRevert\n",
    "        \n",
    "    def getSizeOnStandardDeviation(self, stddev):\n",
    "        valueToTrade = RISK_TO_TRADE * self.broker.get_value()\n",
    "        return math.floor(valueToTrade/stddev)"
   ]
  },
  {
   "cell_type": "markdown",
   "metadata": {},
   "source": [
    "# Backtesting"
   ]
  },
  {
   "cell_type": "code",
   "execution_count": 5,
   "metadata": {
    "tags": []
   },
   "outputs": [
    {
     "output_type": "stream",
     "name": "stdout",
     "text": [
      "############################\n",
      "starting MLP_Relu_EURUSDDaily\n",
      "############################\n",
      "end run 0\n",
      "end run 1\n",
      "end run 2\n",
      "end run 3\n",
      "end run 4\n",
      "end run 5\n",
      "end run 6\n",
      "end run 7\n",
      "end run 8\n",
      "end run 9\n",
      "testScore: 0.49549019607843137(+-0.010936537072458287), max: 0.5137254901960784, min: 0.4774509803921569\n",
      "calcMeanStd:  [0.4852941176470588, 0.5019607843137255, 0.5137254901960784, 0.48431372549019613, 0.5019607843137255, 0.4774509803921569, 0.503921568627451, 0.4852941176470588, 0.5, 0.5009803921568627]\n",
      "portfolio: 9894.465359000009(+-2120.83214853217), max: 13536.551269999989, min: 7243.693030000001\n",
      "calcMeanStd:  [8209.962649999978, 13536.551269999989, 12419.272979999967, 7363.173040000049, 10720.80234000001, 7243.693030000001, 10748.885009999984, 7395.845020000012, 11014.366490000051, 10292.101760000045]\n",
      "total execution time: 130.07\n",
      "############################\n",
      "starting MLP_Tanh_EURUSDDaily\n",
      "############################\n",
      "end run 0\n",
      "end run 1\n",
      "end run 2\n",
      "end run 3\n",
      "end run 4\n",
      "end run 5\n",
      "end run 6\n",
      "end run 7\n",
      "end run 8\n",
      "end run 9\n",
      "testScore: 0.5141176470588235(+-0.007326094781282118), max: 0.5225490196078432, min: 0.4970588235294117\n",
      "calcMeanStd:  [0.5098039215686275, 0.5176470588235293, 0.5186274509803921, 0.5156862745098039, 0.5176470588235295, 0.5098039215686274, 0.5225490196078432, 0.4970588235294117, 0.5098039215686274, 0.5225490196078431]\n",
      "portfolio: 10954.793348000016(+-981.325466643621), max: 12408.932900000038, min: 9672.058530000011\n",
      "calcMeanStd:  [9776.319290000023, 11761.04413000005, 10147.000509999976, 10235.205100000037, 12392.876050000012, 11622.688070000006, 12408.932900000038, 9672.058530000011, 10960.024350000022, 10571.784549999988]\n",
      "total execution time: 244.15\n",
      "############################\n",
      "starting MLP_Log_EURUSDDaily\n",
      "############################\n",
      "end run 0\n",
      "end run 1\n",
      "end run 2\n",
      "end run 3\n",
      "end run 4\n",
      "end run 5\n",
      "end run 6\n",
      "end run 7\n",
      "end run 8\n",
      "end run 9\n",
      "testScore: 0.49147058823529416(+-0.013051004548431649), max: 0.507843137254902, min: 0.4676470588235294\n",
      "calcMeanStd:  [0.5068627450980392, 0.503921568627451, 0.4872549019607843, 0.503921568627451, 0.507843137254902, 0.4852941176470588, 0.4901960784313726, 0.4852941176470588, 0.4676470588235294, 0.4764705882352941]\n",
      "portfolio: 9210.845599000011(+-1458.291777241707), max: 11734.98894, min: 6702.381699999978\n",
      "calcMeanStd:  [11259.721799999976, 9145.790470000044, 9313.042440000016, 10311.92975000001, 11734.98894, 8468.647220000033, 7949.192250000047, 9008.972249999992, 6702.381699999978, 8213.78917000002]\n",
      "total execution time: 102.63\n"
     ]
    }
   ],
   "source": [
    "utils.runBackTest(TESTS, NUMBER_OF_RUNS, TestStrategy, MySizer, DEFAULT_DT_FORMAT, DEFAULT_FROM_DATE)"
   ]
  },
  {
   "cell_type": "code",
   "execution_count": 6,
   "metadata": {
    "tags": []
   },
   "outputs": [
    {
     "output_type": "stream",
     "name": "stdout",
     "text": [
      "[[<Figure size 1920x983 with 4 Axes>]]\n"
     ]
    },
    {
     "output_type": "error",
     "ename": "NameError",
     "evalue": "name 'IMAGE_SUFIX' is not defined",
     "traceback": [
      "\u001b[1;31m---------------------------------------------------------------------------\u001b[0m",
      "\u001b[1;31mNameError\u001b[0m                                 Traceback (most recent call last)",
      "\u001b[1;32m<ipython-input-6-b5d4b568edf8>\u001b[0m in \u001b[0;36m<module>\u001b[1;34m\u001b[0m\n\u001b[0;32m      3\u001b[0m     \u001b[0mfigures\u001b[0m \u001b[1;33m=\u001b[0m \u001b[0mtest\u001b[0m\u001b[1;33m[\u001b[0m\u001b[1;34m'resultCerebro'\u001b[0m\u001b[1;33m]\u001b[0m\u001b[1;33m.\u001b[0m\u001b[0mplot\u001b[0m\u001b[1;33m(\u001b[0m\u001b[0mstyle\u001b[0m\u001b[1;33m=\u001b[0m\u001b[1;34m'bar'\u001b[0m\u001b[1;33m,\u001b[0m \u001b[0miplot\u001b[0m\u001b[1;33m=\u001b[0m\u001b[1;32mFalse\u001b[0m\u001b[1;33m)\u001b[0m\u001b[1;33m\u001b[0m\u001b[1;33m\u001b[0m\u001b[0m\n\u001b[0;32m      4\u001b[0m     \u001b[0mprint\u001b[0m\u001b[1;33m(\u001b[0m\u001b[0mfigures\u001b[0m\u001b[1;33m)\u001b[0m\u001b[1;33m\u001b[0m\u001b[1;33m\u001b[0m\u001b[0m\n\u001b[1;32m----> 5\u001b[1;33m     \u001b[0mfigures\u001b[0m\u001b[1;33m[\u001b[0m\u001b[1;36m0\u001b[0m\u001b[1;33m]\u001b[0m\u001b[1;33m[\u001b[0m\u001b[1;36m0\u001b[0m\u001b[1;33m]\u001b[0m\u001b[1;33m.\u001b[0m\u001b[0msavefig\u001b[0m\u001b[1;33m(\u001b[0m\u001b[0mIMAGE_PATH\u001b[0m \u001b[1;33m+\u001b[0m \u001b[0mtest\u001b[0m\u001b[1;33m[\u001b[0m\u001b[1;34m\"key\"\u001b[0m\u001b[1;33m]\u001b[0m \u001b[1;33m+\u001b[0m \u001b[0mIMAGE_SUFIX\u001b[0m \u001b[1;33m)\u001b[0m\u001b[1;33m\u001b[0m\u001b[1;33m\u001b[0m\u001b[0m\n\u001b[0m",
      "\u001b[1;31mNameError\u001b[0m: name 'IMAGE_SUFIX' is not defined"
     ]
    }
   ],
   "source": [
    "for test in TESTS:\n",
    "    # Plot the result\n",
    "    figures = test['resultCerebro'].plot(style='bar', iplot=False)\n",
    "    print(figures)\n",
    "    figures[0][0].savefig(IMAGE_PATH + test[\"key\"] + IMAGE_SUFIX )\n"
   ]
  }
 ],
 "metadata": {
  "kernelspec": {
   "display_name": "Python 3",
   "language": "python",
   "name": "python3"
  },
  "language_info": {
   "codemirror_mode": {
    "name": "ipython",
    "version": 3
   },
   "file_extension": ".py",
   "mimetype": "text/x-python",
   "name": "python",
   "nbconvert_exporter": "python",
   "pygments_lexer": "ipython3",
   "version": "3.8.3-final"
  }
 },
 "nbformat": 4,
 "nbformat_minor": 4
}