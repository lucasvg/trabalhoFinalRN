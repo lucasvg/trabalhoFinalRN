{
 "cells": [
  {
   "cell_type": "markdown",
   "metadata": {},
   "source": [
    "# Introduction\n",
    "Uses one ETF.\n",
    "\n",
    "Model Inputs are indicators.\n",
    "\n",
    "Multi models with dynamic training\n",
    "\n",
    "# Results"
   ]
  },
  {
   "cell_type": "code",
   "execution_count": 1,
   "metadata": {},
   "outputs": [],
   "source": [
    "import pandas as pd\n",
    "from collections import Counter\n",
    "from sklearn.neural_network import MLPClassifier\n",
    "from sklearn.ensemble import RandomForestClassifier\n",
    "from sklearn import svm\n",
    "import datetime\n",
    "import backtrader as bt\n",
    "import sys\n",
    "sys.path.insert(0, '../code')\n",
    "import prepareDataV3 as util\n",
    "import utils\n",
    "import time\n",
    "import math\n",
    "import numpy as np\n",
    "# import seaborn as sns\n",
    "# import matplotlib.pyplot as pltNonConflict\n",
    "import re\n",
    "np.set_printoptions(precision=4)\n",
    "import itertools"
   ]
  },
  {
   "cell_type": "code",
   "execution_count": 2,
   "metadata": {},
   "outputs": [],
   "source": [
    "THRESHOLD = 0.00\n",
    "TEST_PART = 0.2\n",
    "IMAGE_PATH = '../output/'\n",
    "IMAGE_PREFIX = '30'\n",
    "IMAGE_SUFIX  = '.png'\n",
    "RISK_TO_TRADE  = 0.01 # 0.01 = 1%\n",
    "\n",
    "NUMBER_OF_RUNS = 10\n",
    "DEBUG_VERBOSE = False\n",
    "\n",
    "TRAINING_AMOUNT = 1500 # number used at previous notebooks\n",
    "BIGGEST_INDICATOR_START_LOCKUP = 59\n",
    "BACKTEST_START_LOCKUP = TRAINING_AMOUNT + BIGGEST_INDICATOR_START_LOCKUP\n",
    "TRAINING_EXPIRE_IN = 60 # random number that goes till end of file\n",
    "\n",
    "TESTS = [\n",
    "    {\n",
    "        \"key\": \"MLP_Relu_EURUSDDaily\",\n",
    "        \"clf\": MLPClassifier(activation='relu', hidden_layer_sizes=(100)),\n",
    "        \"dataFileName\": \"EURUSDDaily\",\n",
    "    },\n",
    "    {\n",
    "        \"key\": \"MLP_Tanh_EURUSDDaily\",\n",
    "        \"clf\": MLPClassifier(activation='tanh', hidden_layer_sizes=(100)),\n",
    "        \"dataFileName\": \"EURUSDDaily\",\n",
    "    },\n",
    "    {\n",
    "        \"key\": \"MLP_Log_EURUSDDaily\",\n",
    "        \"clf\": MLPClassifier(activation='logistic', hidden_layer_sizes=(100)),\n",
    "        \"dataFileName\": \"EURUSDDaily\",\n",
    "    },\n",
    "]\n",
    "\n",
    "DEFAULT_DT_FORMAT = '%Y.%m.%d'\n",
    "DEFAULT_FROM_DATE = datetime.date(2010, 7, 1)\n",
    "\n",
    "# ENUM\n",
    "NEUTRAL = 1\n",
    "UP = 2\n",
    "DOWN = 0"
   ]
  },
  {
   "cell_type": "markdown",
   "metadata": {},
   "source": [
    "# Backtesting Strategy\n",
    "Model SVM Linear (https://scikit-learn.org/stable/modules/generated/sklearn.svm.LinearSVC.html#sklearn.svm.LinearSVC)"
   ]
  },
  {
   "cell_type": "code",
   "execution_count": 3,
   "metadata": {},
   "outputs": [],
   "source": [
    "class TestStrategy(bt.Strategy):\n",
    "    def __init__(self):\n",
    "        self.indicators = []\n",
    "        self.toMean = {\n",
    "            \"trainScores\": {\"data\": []},\n",
    "            \"testScores\": {\"data\": []},\n",
    "            \"forecasts\": [],\n",
    "        }\n",
    "\n",
    "\n",
    "        # just to set minimum_period and skip first instance\n",
    "        self.sma = bt.indicators.SimpleMovingAverage(period=BACKTEST_START_LOCKUP, plot=False)\n",
    "\n",
    "        # risk for the sizer\n",
    "        self.StandardDeviation = bt.indicators.StandardDeviation(plot=False)\n",
    "\n",
    "        self.indicators.append(bt.indicators.TrueRange(plot=False))\n",
    "        self.indicators.append(bt.indicators.UltimateOscillator(plot=False))\n",
    "        self.indicators.append(bt.indicators.DoubleExponentialMovingAverageOscillator(plot=False))\n",
    "        self.indicators.append(bt.indicators.AverageDirectionalMovementIndex(plot=False))\n",
    "        self.indicators.append(bt.indicators.HullMovingAverageOscillator(plot=False))\n",
    "        self.indicators.append(bt.indicators.RSI_EMA(plot=False))\n",
    "        self.indicators.append(bt.indicators.HurstExponent(plot=False))\n",
    "        self.indicators.append(bt.indicators.UpMove(plot=False))\n",
    "        self.indicators.append(bt.indicators.PlusDirectionalIndicator(plot=False))\n",
    "        \n",
    "    def trainModel(self):\n",
    "        start = time.time() \n",
    "        data, target = util.prepareDataForTraining(self.datas[0], TRAINING_AMOUNT, THRESHOLD, self.indicators)\n",
    "        # first model train\n",
    "        self.clf.fit(data, target)\n",
    "        end = time.time()\n",
    "        if(DEBUG_VERBOSE):\n",
    "            print(\n",
    "                'Training until:', datetime.date.fromordinal(int(self.datas[0].datetime[0])),\n",
    "                'Training Time:', \"%.2f\" % (end-start)\n",
    "            )\n",
    "        self.toMean['trainScores']['data'].append(self.clf.score(data, target))\n",
    "        \n",
    "    def checkTestScore(self):\n",
    "        data, target = util.prepareDataForTraining(self.datas[0], TRAINING_EXPIRE_IN, THRESHOLD, self.indicators)\n",
    "        self.toMean['testScores']['data'].append(self.clf.score(data, target))\n",
    "        self.toMean['forecasts'].append(self.clf.predict(data))\n",
    "\n",
    "    def predict(self):\n",
    "        data = util.getDataFromIndicatorsForPrediction(1, self.indicators)\n",
    "        prediction = self.clf.predict(data)[0]\n",
    "        return prediction\n",
    "\n",
    "    def nextstart(self):\n",
    "        self.trainModel()\n",
    "\n",
    "    def next(self):\n",
    "        if(len(self) % TRAINING_EXPIRE_IN) == 0:\n",
    "            self.checkTestScore()\n",
    "            self.trainModel()\n",
    "\n",
    "        prediction = self.predict()\n",
    "\n",
    "        positionSize = self.broker.getposition(self.data).size\n",
    "        if(prediction == DOWN and not positionSize < 0):\n",
    "            self.sell(size=None)\n",
    "        elif(prediction == UP and not positionSize > 0):\n",
    "            self.buy(size=None)\n",
    "\n",
    "    def stop(self):\n",
    "        if(DEBUG_VERBOSE):\n",
    "            print(self.toMean['forecasts'])\n",
    "        for label, measurements in self.toMean.items():\n",
    "            if 'data' not in measurements:\n",
    "                continue\n",
    "            if(DEBUG_VERBOSE):\n",
    "                print(label, np.mean(measurements['data']))\n",
    "    def notify_order(self, order):\n",
    "        if(order.status in [order.Canceled, order.Margin, order.Rejected]):\n",
    "            print(order)\n",
    "            print(self.broker.getposition(data))\n"
   ]
  },
  {
   "cell_type": "code",
   "execution_count": 4,
   "metadata": {},
   "outputs": [],
   "source": [
    "class MySizer(bt.Sizer):\n",
    "    def _getsizing(self, comminfo, cash, data, isbuy):\n",
    "        sizeNecessaryToRevert = abs(self.broker.getposition(data).size)\n",
    "        tradingSize = self.getSizeOnStandardDeviation(self.strategy.StandardDeviation[0])\n",
    "        return tradingSize + sizeNecessaryToRevert\n",
    "        \n",
    "    def getSizeOnStandardDeviation(self, stddev):\n",
    "        valueToTrade = RISK_TO_TRADE * self.broker.get_value()\n",
    "        return math.floor(valueToTrade/stddev)"
   ]
  },
  {
   "cell_type": "markdown",
   "metadata": {},
   "source": [
    "# Backtesting"
   ]
  },
  {
   "cell_type": "code",
   "execution_count": 5,
   "metadata": {
    "tags": []
   },
   "outputs": [
    {
     "output_type": "stream",
     "name": "stdout",
     "text": [
      "############################\n",
      "starting MLP_Relu_EURUSDDaily\n",
      "############################\n",
      "end run 0\n",
      "end run 1\n",
      "end run 2\n",
      "end run 3\n",
      "end run 4\n",
      "end run 5\n",
      "end run 6\n",
      "end run 7\n",
      "end run 8\n",
      "end run 9\n",
      "testScore: 0.5014705882352941(+-0.012286234455414912), max: 0.526470588235294, min: 0.48235294117647065\n",
      "calcMeanStd:  [0.5029411764705882, 0.4970588235294117, 0.4901960784313726, 0.48235294117647065, 0.526470588235294, 0.4980392156862745, 0.5009803921568627, 0.49607843137254903, 0.5196078431372548, 0.5009803921568627]\n",
      "portfolio: 9761.921002999992(+-2426.7239293652888), max: 15439.342729999998, min: 6690.320129999967\n",
      "calcMeanStd:  [9096.03806999997, 10472.80112000002, 7769.151179999977, 6870.613110000012, 10793.484910000008, 11166.043530000015, 8995.003139999984, 6690.320129999967, 15439.342729999998, 10326.41210999998]\n",
      "total execution time: 144.52\n",
      "############################\n",
      "starting MLP_Tanh_EURUSDDaily\n",
      "############################\n",
      "end run 0\n",
      "end run 1\n",
      "end run 2\n",
      "end run 3\n",
      "end run 4\n",
      "end run 5\n",
      "end run 6\n",
      "end run 7\n",
      "end run 8\n",
      "end run 9\n",
      "testScore: 0.508235294117647(+-0.007857829376279966), max: 0.5225490196078431, min: 0.49509803921568624\n",
      "calcMeanStd:  [0.5019607843137254, 0.511764705882353, 0.5078431372549019, 0.5225490196078431, 0.5058823529411766, 0.5147058823529411, 0.49509803921568624, 0.4980392156862744, 0.5107843137254902, 0.5137254901960785]\n",
      "portfolio: 10461.124580000027(+-1393.250602925367), max: 12446.698549999988, min: 7830.22561000002\n",
      "calcMeanStd:  [11909.07231, 11168.731659999994, 10877.443730000039, 11542.569030000028, 9608.684470000087, 10012.104990000023, 7830.22561000002, 8553.620200000058, 10662.095250000028, 12446.698549999988]\n",
      "total execution time: 211.10\n",
      "############################\n",
      "starting MLP_Log_EURUSDDaily\n",
      "############################\n",
      "end run 0\n",
      "end run 1\n",
      "end run 2\n",
      "end run 3\n",
      "end run 4\n",
      "end run 5\n",
      "end run 6\n",
      "end run 7\n",
      "end run 8\n",
      "end run 9\n",
      "testScore: 0.49637254901960787(+-0.009465228053205708), max: 0.5127450980392156, min: 0.48235294117647065\n",
      "calcMeanStd:  [0.4882352941176471, 0.484313725490196, 0.48235294117647065, 0.49705882352941183, 0.49509803921568624, 0.503921568627451, 0.5127450980392156, 0.5029411764705882, 0.49117647058823527, 0.5058823529411764]\n",
      "portfolio: 9919.18019000002(+-1126.5504753912983), max: 11589.760449999998, min: 8227.85703000001\n",
      "calcMeanStd:  [8544.753920000043, 8227.85703000001, 9875.71120999997, 9587.816250000013, 10130.204070000014, 11589.760449999998, 11461.700250000064, 11013.73806000004, 8733.638850000028, 10026.621810000008]\n",
      "total execution time: 110.79\n"
     ]
    }
   ],
   "source": [
    "utils.runBackTest(TESTS, NUMBER_OF_RUNS, TestStrategy, MySizer, DEFAULT_DT_FORMAT, DEFAULT_FROM_DATE)"
   ]
  },
  {
   "cell_type": "code",
   "execution_count": 6,
   "metadata": {
    "tags": []
   },
   "outputs": [
    {
     "output_type": "stream",
     "name": "stdout",
     "text": [
      "[[<Figure size 1920x983 with 4 Axes>]]\n",
      "[[<Figure size 1920x983 with 4 Axes>]]\n",
      "[[<Figure size 1920x983 with 4 Axes>]]\n"
     ]
    }
   ],
   "source": [
    "for test in TESTS:\n",
    "    # Plot the result\n",
    "    figures = test['resultCerebro'].plot(style='bar', iplot=False)\n",
    "    print(figures)\n",
    "    figures[0][0].savefig(IMAGE_PATH + IMAGE_PREFIX + '-' + test[\"key\"] + IMAGE_SUFIX )\n",
    ""
   ]
  }
 ],
 "metadata": {
  "kernelspec": {
   "display_name": "Python 3",
   "language": "python",
   "name": "python3"
  },
  "language_info": {
   "codemirror_mode": {
    "name": "ipython",
    "version": 3
   },
   "file_extension": ".py",
   "mimetype": "text/x-python",
   "name": "python",
   "nbconvert_exporter": "python",
   "pygments_lexer": "ipython3",
   "version": "3.8.3-final"
  }
 },
 "nbformat": 4,
 "nbformat_minor": 4
}