{
 "cells": [
  {
   "cell_type": "markdown",
   "metadata": {},
   "source": [
    "# Introduction\n",
    "Uses one ETF.\n",
    "\n",
    "Model Inputs are indicators.\n",
    "\n",
    "Multi models with dynamic training\n",
    "\n",
    "# Results"
   ]
  },
  {
   "cell_type": "code",
   "execution_count": 1,
   "metadata": {},
   "outputs": [],
   "source": [
    "import pandas as pd\n",
    "from collections import Counter\n",
    "from sklearn.neural_network import MLPClassifier\n",
    "from sklearn.ensemble import RandomForestClassifier\n",
    "from sklearn import svm\n",
    "import datetime\n",
    "import backtrader as bt\n",
    "import sys\n",
    "sys.path.insert(0, '../code')\n",
    "import prepareDataV3 as util\n",
    "import utils\n",
    "import time\n",
    "import math\n",
    "import numpy as np\n",
    "# import seaborn as sns\n",
    "# import matplotlib.pyplot as pltNonConflict\n",
    "import re\n",
    "np.set_printoptions(precision=4)\n",
    "import itertools"
   ]
  },
  {
   "cell_type": "code",
   "execution_count": 2,
   "metadata": {},
   "outputs": [],
   "source": [
    "THRESHOLD = 0.00\n",
    "TEST_PART = 0.2\n",
    "IMAGE_PATH = '../output/'\n",
    "IMAGE_PREFIX = '30'\n",
    "IMAGE_SUFIX  = '.png'\n",
    "RISK_TO_TRADE  = 0.01 # 0.01 = 1%\n",
    "\n",
    "NUMBER_OF_RUNS = 10\n",
    "DEBUG_VERBOSE = False\n",
    "\n",
    "TRAINING_AMOUNT = 1500 # number used at previous notebooks\n",
    "BIGGEST_INDICATOR_START_LOCKUP = 59\n",
    "BACKTEST_START_LOCKUP = TRAINING_AMOUNT + BIGGEST_INDICATOR_START_LOCKUP\n",
    "TRAINING_EXPIRE_IN = 60 # random number that goes till end of file\n",
    "\n",
    "TESTS = [\n",
    "    {\n",
    "        \"key\": \"MLP_Relu_EURUSDDaily\",\n",
    "        \"clf\": MLPClassifier(activation='relu', hidden_layer_sizes=(100)),\n",
    "        \"dataFileName\": \"EURUSDDaily\",\n",
    "    },\n",
    "    {\n",
    "        \"key\": \"MLP_Tanh_EURUSDDaily\",\n",
    "        \"clf\": MLPClassifier(activation='tanh', hidden_layer_sizes=(100)),\n",
    "        \"dataFileName\": \"EURUSDDaily\",\n",
    "    },\n",
    "    {\n",
    "        \"key\": \"MLP_Log_EURUSDDaily\",\n",
    "        \"clf\": MLPClassifier(activation='logistic', hidden_layer_sizes=(100)),\n",
    "        \"dataFileName\": \"EURUSDDaily\",\n",
    "    },\n",
    "]\n",
    "\n",
    "DEFAULT_DT_FORMAT = '%Y.%m.%d'\n",
    "DEFAULT_FROM_DATE = datetime.date(2010, 7, 1)\n",
    "\n",
    "# ENUM\n",
    "NEUTRAL = 1\n",
    "UP = 2\n",
    "DOWN = 0"
   ]
  },
  {
   "cell_type": "markdown",
   "metadata": {},
   "source": [
    "# Backtesting Strategy\n",
    "Model SVM Linear (https://scikit-learn.org/stable/modules/generated/sklearn.svm.LinearSVC.html#sklearn.svm.LinearSVC)"
   ]
  },
  {
   "cell_type": "code",
   "execution_count": 3,
   "metadata": {},
   "outputs": [],
   "source": [
    "class TestStrategy(bt.Strategy):\n",
    "    def __init__(self):\n",
    "        self.indicators = []\n",
    "        self.toMean = {\n",
    "            \"trainScores\": {\"data\": []},\n",
    "            \"testScores\": {\"data\": []},\n",
    "            \"forecasts\": [],\n",
    "        }\n",
    "\n",
    "\n",
    "        # just to set minimum_period and skip first instance\n",
    "        self.sma = bt.indicators.SimpleMovingAverage(period=BACKTEST_START_LOCKUP, plot=False)\n",
    "\n",
    "        # risk for the sizer\n",
    "        self.StandardDeviation = bt.indicators.StandardDeviation(plot=False)\n",
    "\n",
    "        self.indicators.append(bt.indicators.TrueRange(plot=False))\n",
    "        self.indicators.append(bt.indicators.UltimateOscillator(plot=False))\n",
    "        self.indicators.append(bt.indicators.DoubleExponentialMovingAverageOscillator(plot=False))\n",
    "        self.indicators.append(bt.indicators.AverageDirectionalMovementIndex(plot=False))\n",
    "        self.indicators.append(bt.indicators.HullMovingAverageOscillator(plot=False))\n",
    "        self.indicators.append(bt.indicators.RSI_EMA(plot=False))\n",
    "        self.indicators.append(bt.indicators.HurstExponent(plot=False))\n",
    "        self.indicators.append(bt.indicators.UpMove(plot=False))\n",
    "        self.indicators.append(bt.indicators.PlusDirectionalIndicator(plot=False))\n",
    "        \n",
    "    def trainModel(self):\n",
    "        start = time.time() \n",
    "        data, target = util.prepareDataForTraining(self.datas[0], TRAINING_AMOUNT, THRESHOLD, self.indicators)\n",
    "        # first model train\n",
    "        self.clf.fit(data, target)\n",
    "        end = time.time()\n",
    "        if(DEBUG_VERBOSE):\n",
    "            print(\n",
    "                'Training until:', datetime.date.fromordinal(int(self.datas[0].datetime[0])),\n",
    "                'Training Time:', \"%.2f\" % (end-start)\n",
    "            )\n",
    "        self.toMean['trainScores']['data'].append(self.clf.score(data, target))\n",
    "        \n",
    "    def checkTestScore(self):\n",
    "        data, target = util.prepareDataForTraining(self.datas[0], TRAINING_EXPIRE_IN, THRESHOLD, self.indicators)\n",
    "        self.toMean['testScores']['data'].append(self.clf.score(data, target))\n",
    "        self.toMean['forecasts'].append(self.clf.predict(data))\n",
    "\n",
    "    def predict(self):\n",
    "        data = util.getDataFromIndicatorsForPrediction(1, self.indicators)\n",
    "        prediction = self.clf.predict(data)[0]\n",
    "        return prediction\n",
    "\n",
    "    def nextstart(self):\n",
    "        self.trainModel()\n",
    "\n",
    "    def next(self):\n",
    "        if(len(self) % TRAINING_EXPIRE_IN) == 0:\n",
    "            self.checkTestScore()\n",
    "            self.trainModel()\n",
    "\n",
    "        prediction = self.predict()\n",
    "\n",
    "        positionSize = self.broker.getposition(self.data).size\n",
    "        if(prediction == DOWN and not positionSize < 0):\n",
    "            self.sell(size=None)\n",
    "        elif(prediction == UP and not positionSize > 0):\n",
    "            self.buy(size=None)\n",
    "\n",
    "    def stop(self):\n",
    "        if(DEBUG_VERBOSE):\n",
    "            print(self.toMean['forecasts'])\n",
    "        for label, measurements in self.toMean.items():\n",
    "            if 'data' not in measurements:\n",
    "                continue\n",
    "            if(DEBUG_VERBOSE):\n",
    "                print(label, np.mean(measurements['data']))\n",
    "    def notify_order(self, order):\n",
    "        if(order.status in [order.Canceled, order.Margin, order.Rejected]):\n",
    "            print(order)\n",
    "            print(self.broker.getposition(data))\n"
   ]
  },
  {
   "cell_type": "code",
   "execution_count": 4,
   "metadata": {},
   "outputs": [],
   "source": [
    "class MySizer(bt.Sizer):\n",
    "    def _getsizing(self, comminfo, cash, data, isbuy):\n",
    "        sizeNecessaryToRevert = abs(self.broker.getposition(data).size)\n",
    "        tradingSize = self.getSizeOnStandardDeviation(self.strategy.StandardDeviation[0])\n",
    "        return tradingSize + sizeNecessaryToRevert\n",
    "        \n",
    "    def getSizeOnStandardDeviation(self, stddev):\n",
    "        valueToTrade = RISK_TO_TRADE * self.broker.get_value()\n",
    "        return math.floor(valueToTrade/stddev)"
   ]
  },
  {
   "cell_type": "markdown",
   "metadata": {},
   "source": [
    "# Backtesting"
   ]
  },
  {
   "cell_type": "code",
   "execution_count": 5,
   "metadata": {
    "tags": []
   },
   "outputs": [
    {
     "output_type": "stream",
     "name": "stdout",
     "text": [
      "############################\nstarting MLP_Relu_EURUSDDaily\n############################\n"
     ]
    },
    {
     "output_type": "error",
     "ename": "FileNotFoundError",
     "evalue": "[Errno 2] No such file or directory: '../dataset/EURUSDDaily.csv'",
     "traceback": [
      "\u001b[1;31m---------------------------------------------------------------------------\u001b[0m",
      "\u001b[1;31mFileNotFoundError\u001b[0m                         Traceback (most recent call last)",
      "\u001b[1;32m<ipython-input-5-6cf339435602>\u001b[0m in \u001b[0;36m<module>\u001b[1;34m\u001b[0m\n\u001b[1;32m----> 1\u001b[1;33m \u001b[0mutils\u001b[0m\u001b[1;33m.\u001b[0m\u001b[0mrunBackTest\u001b[0m\u001b[1;33m(\u001b[0m\u001b[0mTESTS\u001b[0m\u001b[1;33m,\u001b[0m \u001b[0mNUMBER_OF_RUNS\u001b[0m\u001b[1;33m,\u001b[0m \u001b[0mTestStrategy\u001b[0m\u001b[1;33m,\u001b[0m \u001b[0mMySizer\u001b[0m\u001b[1;33m,\u001b[0m \u001b[0mDEFAULT_DT_FORMAT\u001b[0m\u001b[1;33m,\u001b[0m \u001b[0mDEFAULT_FROM_DATE\u001b[0m\u001b[1;33m)\u001b[0m\u001b[1;33m\u001b[0m\u001b[1;33m\u001b[0m\u001b[0m\n\u001b[0m",
      "\u001b[1;32md:\\repos\\trabalhoFinalRN\\code\\utils.py\u001b[0m in \u001b[0;36mrunBackTest\u001b[1;34m(TESTS, NUMBER_OF_RUNS, TestStrategy, MySizer, DEFAULT_DT_FORMAT, DEFAULT_FROM_DATE)\u001b[0m\n\u001b[0;32m     37\u001b[0m             \u001b[0mcerebro\u001b[0m\u001b[1;33m.\u001b[0m\u001b[0mbroker\u001b[0m\u001b[1;33m.\u001b[0m\u001b[0msetcommission\u001b[0m\u001b[1;33m(\u001b[0m\u001b[0mcommission\u001b[0m\u001b[1;33m=\u001b[0m\u001b[1;36m0\u001b[0m\u001b[1;33m,\u001b[0m \u001b[0mmargin\u001b[0m\u001b[1;33m=\u001b[0m\u001b[1;32mFalse\u001b[0m\u001b[1;33m,\u001b[0m \u001b[0mmult\u001b[0m\u001b[1;33m=\u001b[0m\u001b[1;36m1.0\u001b[0m\u001b[1;33m,\u001b[0m \u001b[0mleverage\u001b[0m\u001b[1;33m=\u001b[0m\u001b[1;36m100\u001b[0m\u001b[1;33m)\u001b[0m\u001b[1;33m\u001b[0m\u001b[1;33m\u001b[0m\u001b[0m\n\u001b[0;32m     38\u001b[0m \u001b[1;33m\u001b[0m\u001b[0m\n\u001b[1;32m---> 39\u001b[1;33m             \u001b[0mresults\u001b[0m \u001b[1;33m=\u001b[0m \u001b[0mcerebro\u001b[0m\u001b[1;33m.\u001b[0m\u001b[0mrun\u001b[0m\u001b[1;33m(\u001b[0m\u001b[1;33m)\u001b[0m\u001b[1;33m\u001b[0m\u001b[1;33m\u001b[0m\u001b[0m\n\u001b[0m\u001b[0;32m     40\u001b[0m \u001b[1;33m\u001b[0m\u001b[0m\n\u001b[0;32m     41\u001b[0m             \u001b[0mstatistics\u001b[0m \u001b[1;33m=\u001b[0m \u001b[0mresults\u001b[0m\u001b[1;33m[\u001b[0m\u001b[1;36m0\u001b[0m\u001b[1;33m]\u001b[0m \u001b[1;31m# for data0\u001b[0m\u001b[1;33m\u001b[0m\u001b[1;33m\u001b[0m\u001b[0m\n",
      "\u001b[1;32m~\\anaconda3\\lib\\site-packages\\backtrader\\cerebro.py\u001b[0m in \u001b[0;36mrun\u001b[1;34m(self, **kwargs)\u001b[0m\n\u001b[0;32m   1125\u001b[0m             \u001b[1;31m# let's skip process \"spawning\"\u001b[0m\u001b[1;33m\u001b[0m\u001b[1;33m\u001b[0m\u001b[1;33m\u001b[0m\u001b[0m\n\u001b[0;32m   1126\u001b[0m             \u001b[1;32mfor\u001b[0m \u001b[0miterstrat\u001b[0m \u001b[1;32min\u001b[0m \u001b[0miterstrats\u001b[0m\u001b[1;33m:\u001b[0m\u001b[1;33m\u001b[0m\u001b[1;33m\u001b[0m\u001b[0m\n\u001b[1;32m-> 1127\u001b[1;33m                 \u001b[0mrunstrat\u001b[0m \u001b[1;33m=\u001b[0m \u001b[0mself\u001b[0m\u001b[1;33m.\u001b[0m\u001b[0mrunstrategies\u001b[0m\u001b[1;33m(\u001b[0m\u001b[0miterstrat\u001b[0m\u001b[1;33m)\u001b[0m\u001b[1;33m\u001b[0m\u001b[1;33m\u001b[0m\u001b[0m\n\u001b[0m\u001b[0;32m   1128\u001b[0m                 \u001b[0mself\u001b[0m\u001b[1;33m.\u001b[0m\u001b[0mrunstrats\u001b[0m\u001b[1;33m.\u001b[0m\u001b[0mappend\u001b[0m\u001b[1;33m(\u001b[0m\u001b[0mrunstrat\u001b[0m\u001b[1;33m)\u001b[0m\u001b[1;33m\u001b[0m\u001b[1;33m\u001b[0m\u001b[0m\n\u001b[0;32m   1129\u001b[0m                 \u001b[1;32mif\u001b[0m \u001b[0mself\u001b[0m\u001b[1;33m.\u001b[0m\u001b[0m_dooptimize\u001b[0m\u001b[1;33m:\u001b[0m\u001b[1;33m\u001b[0m\u001b[1;33m\u001b[0m\u001b[0m\n",
      "\u001b[1;32m~\\anaconda3\\lib\\site-packages\\backtrader\\cerebro.py\u001b[0m in \u001b[0;36mrunstrategies\u001b[1;34m(self, iterstrat, predata)\u001b[0m\n\u001b[0;32m   1208\u001b[0m                 \u001b[1;32mif\u001b[0m \u001b[0mself\u001b[0m\u001b[1;33m.\u001b[0m\u001b[0m_exactbars\u001b[0m \u001b[1;33m<\u001b[0m \u001b[1;36m1\u001b[0m\u001b[1;33m:\u001b[0m  \u001b[1;31m# datas can be full length\u001b[0m\u001b[1;33m\u001b[0m\u001b[1;33m\u001b[0m\u001b[0m\n\u001b[0;32m   1209\u001b[0m                     \u001b[0mdata\u001b[0m\u001b[1;33m.\u001b[0m\u001b[0mextend\u001b[0m\u001b[1;33m(\u001b[0m\u001b[0msize\u001b[0m\u001b[1;33m=\u001b[0m\u001b[0mself\u001b[0m\u001b[1;33m.\u001b[0m\u001b[0mparams\u001b[0m\u001b[1;33m.\u001b[0m\u001b[0mlookahead\u001b[0m\u001b[1;33m)\u001b[0m\u001b[1;33m\u001b[0m\u001b[1;33m\u001b[0m\u001b[0m\n\u001b[1;32m-> 1210\u001b[1;33m                 \u001b[0mdata\u001b[0m\u001b[1;33m.\u001b[0m\u001b[0m_start\u001b[0m\u001b[1;33m(\u001b[0m\u001b[1;33m)\u001b[0m\u001b[1;33m\u001b[0m\u001b[1;33m\u001b[0m\u001b[0m\n\u001b[0m\u001b[0;32m   1211\u001b[0m                 \u001b[1;32mif\u001b[0m \u001b[0mself\u001b[0m\u001b[1;33m.\u001b[0m\u001b[0m_dopreload\u001b[0m\u001b[1;33m:\u001b[0m\u001b[1;33m\u001b[0m\u001b[1;33m\u001b[0m\u001b[0m\n\u001b[0;32m   1212\u001b[0m                     \u001b[0mdata\u001b[0m\u001b[1;33m.\u001b[0m\u001b[0mpreload\u001b[0m\u001b[1;33m(\u001b[0m\u001b[1;33m)\u001b[0m\u001b[1;33m\u001b[0m\u001b[1;33m\u001b[0m\u001b[0m\n",
      "\u001b[1;32m~\\anaconda3\\lib\\site-packages\\backtrader\\feed.py\u001b[0m in \u001b[0;36m_start\u001b[1;34m(self)\u001b[0m\n\u001b[0;32m    201\u001b[0m \u001b[1;33m\u001b[0m\u001b[0m\n\u001b[0;32m    202\u001b[0m     \u001b[1;32mdef\u001b[0m \u001b[0m_start\u001b[0m\u001b[1;33m(\u001b[0m\u001b[0mself\u001b[0m\u001b[1;33m)\u001b[0m\u001b[1;33m:\u001b[0m\u001b[1;33m\u001b[0m\u001b[1;33m\u001b[0m\u001b[0m\n\u001b[1;32m--> 203\u001b[1;33m         \u001b[0mself\u001b[0m\u001b[1;33m.\u001b[0m\u001b[0mstart\u001b[0m\u001b[1;33m(\u001b[0m\u001b[1;33m)\u001b[0m\u001b[1;33m\u001b[0m\u001b[1;33m\u001b[0m\u001b[0m\n\u001b[0m\u001b[0;32m    204\u001b[0m \u001b[1;33m\u001b[0m\u001b[0m\n\u001b[0;32m    205\u001b[0m         \u001b[1;32mif\u001b[0m \u001b[1;32mnot\u001b[0m \u001b[0mself\u001b[0m\u001b[1;33m.\u001b[0m\u001b[0m_started\u001b[0m\u001b[1;33m:\u001b[0m\u001b[1;33m\u001b[0m\u001b[1;33m\u001b[0m\u001b[0m\n",
      "\u001b[1;32m~\\anaconda3\\lib\\site-packages\\backtrader\\feeds\\csvgeneric.py\u001b[0m in \u001b[0;36mstart\u001b[1;34m(self)\u001b[0m\n\u001b[0;32m     86\u001b[0m \u001b[1;33m\u001b[0m\u001b[0m\n\u001b[0;32m     87\u001b[0m     \u001b[1;32mdef\u001b[0m \u001b[0mstart\u001b[0m\u001b[1;33m(\u001b[0m\u001b[0mself\u001b[0m\u001b[1;33m)\u001b[0m\u001b[1;33m:\u001b[0m\u001b[1;33m\u001b[0m\u001b[1;33m\u001b[0m\u001b[0m\n\u001b[1;32m---> 88\u001b[1;33m         \u001b[0msuper\u001b[0m\u001b[1;33m(\u001b[0m\u001b[0mGenericCSVData\u001b[0m\u001b[1;33m,\u001b[0m \u001b[0mself\u001b[0m\u001b[1;33m)\u001b[0m\u001b[1;33m.\u001b[0m\u001b[0mstart\u001b[0m\u001b[1;33m(\u001b[0m\u001b[1;33m)\u001b[0m\u001b[1;33m\u001b[0m\u001b[1;33m\u001b[0m\u001b[0m\n\u001b[0m\u001b[0;32m     89\u001b[0m \u001b[1;33m\u001b[0m\u001b[0m\n\u001b[0;32m     90\u001b[0m         \u001b[0mself\u001b[0m\u001b[1;33m.\u001b[0m\u001b[0m_dtstr\u001b[0m \u001b[1;33m=\u001b[0m \u001b[1;32mFalse\u001b[0m\u001b[1;33m\u001b[0m\u001b[1;33m\u001b[0m\u001b[0m\n",
      "\u001b[1;32m~\\anaconda3\\lib\\site-packages\\backtrader\\feed.py\u001b[0m in \u001b[0;36mstart\u001b[1;34m(self)\u001b[0m\n\u001b[0;32m    672\u001b[0m             \u001b[1;32melse\u001b[0m\u001b[1;33m:\u001b[0m\u001b[1;33m\u001b[0m\u001b[1;33m\u001b[0m\u001b[0m\n\u001b[0;32m    673\u001b[0m                 \u001b[1;31m# Let an exception propagate to let the caller know\u001b[0m\u001b[1;33m\u001b[0m\u001b[1;33m\u001b[0m\u001b[1;33m\u001b[0m\u001b[0m\n\u001b[1;32m--> 674\u001b[1;33m                 \u001b[0mself\u001b[0m\u001b[1;33m.\u001b[0m\u001b[0mf\u001b[0m \u001b[1;33m=\u001b[0m \u001b[0mio\u001b[0m\u001b[1;33m.\u001b[0m\u001b[0mopen\u001b[0m\u001b[1;33m(\u001b[0m\u001b[0mself\u001b[0m\u001b[1;33m.\u001b[0m\u001b[0mp\u001b[0m\u001b[1;33m.\u001b[0m\u001b[0mdataname\u001b[0m\u001b[1;33m,\u001b[0m \u001b[1;34m'r'\u001b[0m\u001b[1;33m)\u001b[0m\u001b[1;33m\u001b[0m\u001b[1;33m\u001b[0m\u001b[0m\n\u001b[0m\u001b[0;32m    675\u001b[0m \u001b[1;33m\u001b[0m\u001b[0m\n\u001b[0;32m    676\u001b[0m         \u001b[1;32mif\u001b[0m \u001b[0mself\u001b[0m\u001b[1;33m.\u001b[0m\u001b[0mp\u001b[0m\u001b[1;33m.\u001b[0m\u001b[0mheaders\u001b[0m\u001b[1;33m:\u001b[0m\u001b[1;33m\u001b[0m\u001b[1;33m\u001b[0m\u001b[0m\n",
      "\u001b[1;31mFileNotFoundError\u001b[0m: [Errno 2] No such file or directory: '../dataset/EURUSDDaily.csv'"
     ]
    }
   ],
   "source": [
    "utils.runBackTest(TESTS, NUMBER_OF_RUNS, TestStrategy, MySizer, DEFAULT_DT_FORMAT, DEFAULT_FROM_DATE)"
   ]
  },
  {
   "cell_type": "code",
   "execution_count": 6,
   "metadata": {
    "tags": []
   },
   "outputs": [
    {
     "output_type": "stream",
     "name": "stdout",
     "text": "[[<Figure size 1536x767 with 4 Axes>]]\n[[<Figure size 1536x767 with 4 Axes>]]\n[[<Figure size 1536x767 with 4 Axes>]]\n"
    }
   ],
   "source": [
    "for test in TESTS:\n",
    "    # Plot the result\n",
    "    figures = test['resultCerebro'].plot(style='bar', iplot=False)\n",
    "    print(figures)\n",
    "    figures[0][0].savefig(IMAGE_PATH + IMAGE_PREFIX + '-' + test[\"key\"] + IMAGE_SUFIX )\n",
    ""
   ]
  }
 ],
 "metadata": {
  "kernelspec": {
   "display_name": "Python 3",
   "language": "python",
   "name": "python3"
  },
  "language_info": {
   "codemirror_mode": {
    "name": "ipython",
    "version": 3
   },
   "file_extension": ".py",
   "mimetype": "text/x-python",
   "name": "python",
   "nbconvert_exporter": "python",
   "pygments_lexer": "ipython3",
   "version": "3.8.3-final"
  }
 },
 "nbformat": 4,
 "nbformat_minor": 4
}