{
 "metadata": {
  "language_info": {
   "codemirror_mode": {
    "name": "ipython",
    "version": 3
   },
   "file_extension": ".py",
   "mimetype": "text/x-python",
   "name": "python",
   "nbconvert_exporter": "python",
   "pygments_lexer": "ipython3",
   "version": "3.8.5-final"
  },
  "orig_nbformat": 2,
  "kernelspec": {
   "name": "Python 3.8.5 64-bit",
   "display_name": "Python 3.8.5 64-bit",
   "metadata": {
    "interpreter": {
     "hash": "767d51c1340bd893661ea55ea3124f6de3c7a262a8b4abca0554b478b1e2ff90"
    }
   }
  }
 },
 "nbformat": 4,
 "nbformat_minor": 2,
 "cells": [
  {
   "cell_type": "code",
   "execution_count": 1,
   "metadata": {},
   "outputs": [],
   "source": [
    "import pandas as pd\n",
    "import matplotlib.pyplot as plt\n",
    "from statsmodels.tsa.seasonal import STL\n",
    "from datetime import datetime\n",
    "sys.path.insert(0, '../code')\n",
    "import STL"
   ]
  },
  {
   "cell_type": "code",
   "execution_count": 2,
   "metadata": {},
   "outputs": [],
   "source": [
    "TRAINING_AMOUNT = 1500"
   ]
  },
  {
   "cell_type": "code",
   "execution_count": 3,
   "metadata": {},
   "outputs": [],
   "source": [
    "def generateTarget(data, amount):\n",
    "    target =  []\n",
    "    for i in range(-1*(amount-1), 1):\n",
    "        if ((data[i+1]-data[i]) >= 0):\n",
    "            target.append(UP)\n",
    "        else:\n",
    "            target.append(DOWN)\n",
    "    return target"
   ]
  },
  {
   "cell_type": "code",
   "execution_count": 4,
   "metadata": {
    "tags": []
   },
   "outputs": [
    {
     "output_type": "stream",
     "name": "stdout",
     "text": [
      "end\n"
     ]
    }
   ],
   "source": [
    "df = pd.read_csv(\"../dataset/EURUSDDaily.csv\", index_col=0)\n",
    "\n",
    "df.columns = ['open', 'highest', 'lowest', 'close', 'volume', 'unknown']\n",
    "\n",
    "f = open(\"../dataset/compiled/STL_\"+str(TRAINING_AMOUNT)+\".txt\", \"a+\")\n",
    "\n",
    "open, highest, lowest, close, volume = STL.STLDecomposition(df)\n",
    "type(open)\n",
    "\n",
    "# target = generateTarget(df[['close']])\n",
    "\n",
    "EXPIRE_AMOUNT=60\n",
    "TRAINING_AMOUNT=1500\n",
    "for i in range(TRAINING_AMOUNT, len(open[1])):\n",
    "    if(i==TRAINING_AMOUNT or (i%EXPIRE_AMOUNT)==0):\n",
    "        line = []\n",
    "        inputs = []\n",
    "        targets = []\n",
    "        for j in range(i-TRAINING_AMOUNT, i):\n",
    "            inpt = []\n",
    "            for s in [open, highest, lowest, close, volume]:\n",
    "                for t in s:\n",
    "                    inpt.append(t[i])\n",
    "            inputs.append([inpt])    \n",
    "            \n",
    "            target = 0\n",
    "            try:\n",
    "                if(df['close'][j+1]-df['close'][j]>0):\n",
    "                    target = 1 \n",
    "            except IndexError:\n",
    "                print('end')\n",
    "            targets.append(target)\n",
    "        line.append(inputs)\n",
    "        line.append(targets)\n",
    "        f.write(str(line)+\"\\n\")\n",
    "    else:\n",
    "        line = []\n",
    "        inputs = []\n",
    "        for s in [open, highest, lowest, close, volume]:\n",
    "            for t in s:\n",
    "                inputs.append(t[i])\n",
    "        line.append([inputs])\n",
    "\n",
    "        target = 0\n",
    "        try:\n",
    "            if(df['close'][i+1]-df['close'][i]>0):\n",
    "                target = 1 \n",
    "        except IndexError:\n",
    "            print('end')\n",
    "        line.append([target])\n",
    "        f.write(str(line)+\"\\n\")\n",
    "\n",
    "# for data in [open, highest, lowest, close, volume]:\n",
    "#     linha = []\n",
    "#     for feature in data:\n",
    "#         linha.append([])\n",
    "        # target = generateTarget(feature, TRAINING_AMOUNT)\n",
    "        # f.write(str([feature, target])+\"\\n\")\n",
    "\n",
    "f.close()\n",
    "\n",
    "        "
   ]
  },
  {
   "cell_type": "code",
   "execution_count": null,
   "metadata": {},
   "outputs": [],
   "source": []
  }
 ]
}