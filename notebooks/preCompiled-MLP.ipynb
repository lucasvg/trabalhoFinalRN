{
 "cells": [
  {
   "cell_type": "markdown",
   "metadata": {},
   "source": [
    "# Introduction\n",
    "Uses one ETF.\n",
    "\n",
    "Model Inputs are indicators.\n",
    "\n",
    "Multi models with dynamic training\n",
    "\n",
    "# Results"
   ]
  },
  {
   "cell_type": "code",
   "execution_count": 1,
   "metadata": {},
   "outputs": [],
   "source": [
    "import pandas as pd\n",
    "from collections import Counter\n",
    "from sklearn.neural_network import MLPClassifier\n",
    "from sklearn.ensemble import RandomForestClassifier\n",
    "from sklearn import svm\n",
    "import datetime\n",
    "import backtrader as bt\n",
    "import sys\n",
    "sys.path.insert(0, '../code')\n",
    "import prepareDataV3 as util\n",
    "import utilsV2 as utils\n",
    "import time\n",
    "import math\n",
    "import numpy as np\n",
    "# import seaborn as sns\n",
    "# import matplotlib.pyplot as pltNonConflict\n",
    "import re\n",
    "np.set_printoptions(precision=4)\n",
    "import itertools"
   ]
  },
  {
   "cell_type": "code",
   "execution_count": 2,
   "metadata": {},
   "outputs": [
    {
     "output_type": "stream",
     "name": "stdout",
     "text": [
      "{'activation': 'relu', 'hidden_layer_sizes': (100,), 'dataFileName': 'EURUSDDaily', 'key': 'relu_(100,)_EURUSDDaily', 'clf': MLPClassifier()}\n{'activation': 'tanh', 'hidden_layer_sizes': (100,), 'dataFileName': 'EURUSDDaily', 'key': 'tanh_(100,)_EURUSDDaily', 'clf': MLPClassifier(activation='tanh')}\n{'activation': 'logistic', 'hidden_layer_sizes': (100,), 'dataFileName': 'EURUSDDaily', 'key': 'logistic_(100,)_EURUSDDaily', 'clf': MLPClassifier(activation='logistic')}\n"
     ]
    }
   ],
   "source": [
    "THRESHOLD = 0.00\n",
    "TEST_PART = 0.2\n",
    "IMAGE_PATH = '../output/'\n",
    "IMAGE_SUFIX  = '.png'\n",
    "RISK_TO_TRADE  = 0.01 # 0.01 = 1%\n",
    "\n",
    "NUMBER_OF_RUNS = 5\n",
    "DEBUG_VERBOSE = False\n",
    "\n",
    "TRAINING_AMOUNT = 1500 # number used at previous notebooks\n",
    "BIGGEST_INDICATOR_START_LOCKUP = 59\n",
    "BACKTEST_START_LOCKUP = TRAINING_AMOUNT + BIGGEST_INDICATOR_START_LOCKUP\n",
    "TRAINING_EXPIRE_IN = 60 # random number that goes till end of file\n",
    "\n",
    "parameters = {\n",
    "    \"activation\": ['relu', 'tanh', 'logistic'],\n",
    "    \"hidden_layer_sizes\": [(100,)],\n",
    "}\n",
    "\n",
    "TESTS = [dict(zip(parameters.keys(), values)) for values in itertools.product(*parameters.values())]\n",
    "\n",
    "for test in TESTS:\n",
    "    aux = test.copy()\n",
    "    test['dataFileName'] = 'EURUSDDaily'\n",
    "    keyParts = [ str(i) for i in aux.values() ]\n",
    "    keyParts.append(test['dataFileName'])\n",
    "    test['key'] = \"_\".join(keyParts)\n",
    "    test['clf'] = MLPClassifier(activation=test['activation'], hidden_layer_sizes=test['hidden_layer_sizes'])\n",
    "    print(test)\n",
    "\n",
    "DEFAULT_DT_FORMAT = '%Y.%m.%d'\n",
    "DEFAULT_FROM_DATE = datetime.date(2010, 7, 1)\n",
    "PLOT_FROM_DATE = datetime.datetime(2016, 6, 1, 0, 0, 0)\n",
    "\n",
    "# ENUM\n",
    "UP = 1\n",
    "DOWN = 0"
   ]
  },
  {
   "cell_type": "code",
   "execution_count": 3,
   "metadata": {
    "tags": []
   },
   "outputs": [
    {
     "output_type": "error",
     "ename": "NameError",
     "evalue": "name 'TestStrategy' is not defined",
     "traceback": [
      "\u001b[1;31m---------------------------------------------------------------------------\u001b[0m",
      "\u001b[1;31mNameError\u001b[0m                                 Traceback (most recent call last)",
      "\u001b[1;32m<ipython-input-3-6cf339435602>\u001b[0m in \u001b[0;36m<module>\u001b[1;34m\u001b[0m\n\u001b[1;32m----> 1\u001b[1;33m \u001b[0mutils\u001b[0m\u001b[1;33m.\u001b[0m\u001b[0mrunBackTest\u001b[0m\u001b[1;33m(\u001b[0m\u001b[0mTESTS\u001b[0m\u001b[1;33m,\u001b[0m \u001b[0mNUMBER_OF_RUNS\u001b[0m\u001b[1;33m,\u001b[0m \u001b[0mTestStrategy\u001b[0m\u001b[1;33m,\u001b[0m \u001b[0mMySizer\u001b[0m\u001b[1;33m,\u001b[0m \u001b[0mDEFAULT_DT_FORMAT\u001b[0m\u001b[1;33m,\u001b[0m \u001b[0mDEFAULT_FROM_DATE\u001b[0m\u001b[1;33m)\u001b[0m\u001b[1;33m\u001b[0m\u001b[1;33m\u001b[0m\u001b[0m\n\u001b[0m",
      "\u001b[1;31mNameError\u001b[0m: name 'TestStrategy' is not defined"
     ]
    }
   ],
   "source": [
    "utils.runBackTest(TESTS, NUMBER_OF_RUNS, DEFAULT_DT_FORMAT, DEFAULT_FROM_DATE)"
   ]
  }
 ],
 "metadata": {
  "kernelspec": {
   "display_name": "Python 3",
   "language": "python",
   "name": "python3"
  },
  "language_info": {
   "codemirror_mode": {
    "name": "ipython",
    "version": 3
   },
   "file_extension": ".py",
   "mimetype": "text/x-python",
   "name": "python",
   "nbconvert_exporter": "python",
   "pygments_lexer": "ipython3",
   "version": "3.8.3-final"
  }
 },
 "nbformat": 4,
 "nbformat_minor": 4
}