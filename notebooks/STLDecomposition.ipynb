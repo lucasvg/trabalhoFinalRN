{
 "metadata": {
  "language_info": {
   "codemirror_mode": {
    "name": "ipython",
    "version": 3
   },
   "file_extension": ".py",
   "mimetype": "text/x-python",
   "name": "python",
   "nbconvert_exporter": "python",
   "pygments_lexer": "ipython3",
   "version": "3.8.5-final"
  },
  "orig_nbformat": 2,
  "kernelspec": {
   "name": "Python 3.8.5 64-bit",
   "display_name": "Python 3.8.5 64-bit",
   "metadata": {
    "interpreter": {
     "hash": "767d51c1340bd893661ea55ea3124f6de3c7a262a8b4abca0554b478b1e2ff90"
    }
   }
  }
 },
 "nbformat": 4,
 "nbformat_minor": 2,
 "cells": [
  {
   "cell_type": "code",
   "execution_count": 1,
   "metadata": {},
   "outputs": [],
   "source": [
    "import pandas as pd\n",
    "import seaborn as sns\n",
    "import matplotlib.pyplot as plt\n",
    "from pandas.plotting import register_matplotlib_converters\n",
    "from statsmodels.tsa.seasonal import STL\n",
    "from datetime import datetime\n",
    "sys.path.insert(0, '../code')\n",
    "import utilsV2 as utils"
   ]
  },
  {
   "cell_type": "code",
   "execution_count": 2,
   "metadata": {},
   "outputs": [],
   "source": [
    "register_matplotlib_converters()\n",
    "sns.set_style('darkgrid')\n",
    "plt.rc('figure',figsize=(16,12))\n",
    "plt.rc('font',size=13)"
   ]
  },
  {
   "cell_type": "code",
   "execution_count": 3,
   "metadata": {
    "tags": []
   },
   "outputs": [
    {
     "output_type": "stream",
     "name": "stdout",
     "text": [
      "<class 'list'>\n"
     ]
    }
   ],
   "source": [
    "df = pd.read_csv(\"../dataset/EURUSDDaily.csv\", index_col=0)\n",
    "\n",
    "df.columns = ['open', 'highest', 'lowest', 'close', 'volume', 'unknown']\n",
    "\n",
    "for column in df.columns[:-1]:\n",
    "    data = df[[column]]\n",
    "    flat_arr = data.to_numpy().flatten()\n",
    "    d = utils.smoothCurve(flat_arr)[:1500]\n",
    "    series = pd.Series(d, index=pd.date_range('23-4-1996', periods=len(d), freq='D'), name = column)\n",
    "    stl = STL(series, seasonal=5, seasonal_deg=0, trend_deg=0, low_pass_deg=0, robust=True)\n",
    "    res = stl.fit()\n",
    "    res.plot()\n",
    "\n",
    "# open, highest, lowest, close, volume = utils.STLDecomposition(df)"
   ]
  },
  {
   "cell_type": "code",
   "execution_count": null,
   "metadata": {},
   "outputs": [],
   "source": []
  }
 ]
}