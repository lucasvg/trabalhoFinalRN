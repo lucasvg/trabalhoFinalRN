{
 "metadata": {
  "language_info": {
   "codemirror_mode": {
    "name": "ipython",
    "version": 3
   },
   "file_extension": ".py",
   "mimetype": "text/x-python",
   "name": "python",
   "nbconvert_exporter": "python",
   "pygments_lexer": "ipython3",
   "version": "3.8.5-final"
  },
  "orig_nbformat": 2,
  "kernelspec": {
   "name": "Python 3.8.5 64-bit",
   "display_name": "Python 3.8.5 64-bit",
   "metadata": {
    "interpreter": {
     "hash": "767d51c1340bd893661ea55ea3124f6de3c7a262a8b4abca0554b478b1e2ff90"
    }
   }
  }
 },
 "nbformat": 4,
 "nbformat_minor": 2,
 "cells": [
  {
   "cell_type": "code",
   "execution_count": 15,
   "metadata": {},
   "outputs": [],
   "source": [
    "import numpy as np\n",
    "import matplotlib.pyplot as plt\n",
    "import pandas as pd\n",
    "from sklearn.preprocessing import MinMaxScaler"
   ]
  },
  {
   "cell_type": "code",
   "execution_count": 16,
   "metadata": {},
   "outputs": [
    {
     "output_type": "execute_result",
     "data": {
      "text/plain": [
       "     Open    High     Low   Close  Volume\n",
       "0  1.2844  1.2874  1.2835  1.2871     511\n",
       "1  1.2872  1.2876  1.2742  1.2758    1541\n",
       "2  1.2757  1.2832  1.2748  1.2815    1101\n",
       "3  1.2813  1.2887  1.2793  1.2796    1711\n",
       "4  1.2795  1.2848  1.2737  1.2769    1961"
      ],
      "text/html": "<div>\n<style scoped>\n    .dataframe tbody tr th:only-of-type {\n        vertical-align: middle;\n    }\n\n    .dataframe tbody tr th {\n        vertical-align: top;\n    }\n\n    .dataframe thead th {\n        text-align: right;\n    }\n</style>\n<table border=\"1\" class=\"dataframe\">\n  <thead>\n    <tr style=\"text-align: right;\">\n      <th></th>\n      <th>Open</th>\n      <th>High</th>\n      <th>Low</th>\n      <th>Close</th>\n      <th>Volume</th>\n    </tr>\n  </thead>\n  <tbody>\n    <tr>\n      <th>0</th>\n      <td>1.2844</td>\n      <td>1.2874</td>\n      <td>1.2835</td>\n      <td>1.2871</td>\n      <td>511</td>\n    </tr>\n    <tr>\n      <th>1</th>\n      <td>1.2872</td>\n      <td>1.2876</td>\n      <td>1.2742</td>\n      <td>1.2758</td>\n      <td>1541</td>\n    </tr>\n    <tr>\n      <th>2</th>\n      <td>1.2757</td>\n      <td>1.2832</td>\n      <td>1.2748</td>\n      <td>1.2815</td>\n      <td>1101</td>\n    </tr>\n    <tr>\n      <th>3</th>\n      <td>1.2813</td>\n      <td>1.2887</td>\n      <td>1.2793</td>\n      <td>1.2796</td>\n      <td>1711</td>\n    </tr>\n    <tr>\n      <th>4</th>\n      <td>1.2795</td>\n      <td>1.2848</td>\n      <td>1.2737</td>\n      <td>1.2769</td>\n      <td>1961</td>\n    </tr>\n  </tbody>\n</table>\n</div>"
     },
     "metadata": {},
     "execution_count": 16
    }
   ],
   "source": [
    "data = pd.read_csv('../dataset/EURUSDDaily.csv')\n",
    "data.columns = ['Date', 'Open', 'High', 'Low', 'Close', 'Volume', 'Unknown']\n",
    "data = data.drop(['Date', 'Unknown'], axis=1)\n",
    "\n",
    "data.head()"
   ]
  },
  {
   "cell_type": "code",
   "execution_count": 17,
   "metadata": {},
   "outputs": [
    {
     "output_type": "execute_result",
     "data": {
      "text/plain": [
       "         Open     High      Low    Close  Volume\n",
       "0     1.28440  1.28740  1.28350  1.28710     511\n",
       "1     1.28720  1.28760  1.27420  1.27580    1541\n",
       "2     1.27570  1.28320  1.27480  1.28150    1101\n",
       "3     1.28130  1.28870  1.27930  1.27960    1711\n",
       "4     1.27950  1.28480  1.27370  1.27690    1961\n",
       "...       ...      ...      ...      ...     ...\n",
       "5595  1.18126  1.18367  1.16403  1.16503   89540\n",
       "5596  1.16503  1.16568  1.15742  1.16075   92165\n",
       "5597  1.16054  1.16578  1.15933  1.16505   59230\n",
       "5598  1.16503  1.16612  1.16248  1.16457   57679\n",
       "5599  1.16451  1.16573  1.16063  1.16184   71448\n",
       "\n",
       "[5600 rows x 5 columns]"
      ],
      "text/html": "<div>\n<style scoped>\n    .dataframe tbody tr th:only-of-type {\n        vertical-align: middle;\n    }\n\n    .dataframe tbody tr th {\n        vertical-align: top;\n    }\n\n    .dataframe thead th {\n        text-align: right;\n    }\n</style>\n<table border=\"1\" class=\"dataframe\">\n  <thead>\n    <tr style=\"text-align: right;\">\n      <th></th>\n      <th>Open</th>\n      <th>High</th>\n      <th>Low</th>\n      <th>Close</th>\n      <th>Volume</th>\n    </tr>\n  </thead>\n  <tbody>\n    <tr>\n      <th>0</th>\n      <td>1.28440</td>\n      <td>1.28740</td>\n      <td>1.28350</td>\n      <td>1.28710</td>\n      <td>511</td>\n    </tr>\n    <tr>\n      <th>1</th>\n      <td>1.28720</td>\n      <td>1.28760</td>\n      <td>1.27420</td>\n      <td>1.27580</td>\n      <td>1541</td>\n    </tr>\n    <tr>\n      <th>2</th>\n      <td>1.27570</td>\n      <td>1.28320</td>\n      <td>1.27480</td>\n      <td>1.28150</td>\n      <td>1101</td>\n    </tr>\n    <tr>\n      <th>3</th>\n      <td>1.28130</td>\n      <td>1.28870</td>\n      <td>1.27930</td>\n      <td>1.27960</td>\n      <td>1711</td>\n    </tr>\n    <tr>\n      <th>4</th>\n      <td>1.27950</td>\n      <td>1.28480</td>\n      <td>1.27370</td>\n      <td>1.27690</td>\n      <td>1961</td>\n    </tr>\n    <tr>\n      <th>...</th>\n      <td>...</td>\n      <td>...</td>\n      <td>...</td>\n      <td>...</td>\n      <td>...</td>\n    </tr>\n    <tr>\n      <th>5595</th>\n      <td>1.18126</td>\n      <td>1.18367</td>\n      <td>1.16403</td>\n      <td>1.16503</td>\n      <td>89540</td>\n    </tr>\n    <tr>\n      <th>5596</th>\n      <td>1.16503</td>\n      <td>1.16568</td>\n      <td>1.15742</td>\n      <td>1.16075</td>\n      <td>92165</td>\n    </tr>\n    <tr>\n      <th>5597</th>\n      <td>1.16054</td>\n      <td>1.16578</td>\n      <td>1.15933</td>\n      <td>1.16505</td>\n      <td>59230</td>\n    </tr>\n    <tr>\n      <th>5598</th>\n      <td>1.16503</td>\n      <td>1.16612</td>\n      <td>1.16248</td>\n      <td>1.16457</td>\n      <td>57679</td>\n    </tr>\n    <tr>\n      <th>5599</th>\n      <td>1.16451</td>\n      <td>1.16573</td>\n      <td>1.16063</td>\n      <td>1.16184</td>\n      <td>71448</td>\n    </tr>\n  </tbody>\n</table>\n<p>5600 rows × 5 columns</p>\n</div>"
     },
     "metadata": {},
     "execution_count": 17
    }
   ],
   "source": [
    "training = data[:5600].copy()\n",
    "training"
   ]
  },
  {
   "cell_type": "code",
   "execution_count": 18,
   "metadata": {},
   "outputs": [
    {
     "output_type": "execute_result",
     "data": {
      "text/plain": [
       "         Open     High      Low    Close  Volume\n",
       "5600  1.16177  1.16782  1.16130  1.16559   79755\n",
       "5601  1.16559  1.16906  1.15991  1.16066   69187\n",
       "5602  1.16097  1.16241  1.15802  1.16089   66254\n",
       "5603  1.16091  1.16157  1.15540  1.15854   73309\n",
       "5604  1.15854  1.16110  1.15792  1.15943   59168\n",
       "...       ...      ...      ...      ...     ...\n",
       "6219  1.08797  1.10586  1.08700  1.10291  149438\n",
       "6220  1.10290  1.11470  1.09533  1.11431  139186\n",
       "6221  1.11159  1.11439  1.10099  1.10427  109850\n",
       "6222  1.10414  1.10537  1.09266  1.10349  132367\n",
       "6223  1.10299  1.10390  1.10161  1.10275    2554\n",
       "\n",
       "[624 rows x 5 columns]"
      ],
      "text/html": "<div>\n<style scoped>\n    .dataframe tbody tr th:only-of-type {\n        vertical-align: middle;\n    }\n\n    .dataframe tbody tr th {\n        vertical-align: top;\n    }\n\n    .dataframe thead th {\n        text-align: right;\n    }\n</style>\n<table border=\"1\" class=\"dataframe\">\n  <thead>\n    <tr style=\"text-align: right;\">\n      <th></th>\n      <th>Open</th>\n      <th>High</th>\n      <th>Low</th>\n      <th>Close</th>\n      <th>Volume</th>\n    </tr>\n  </thead>\n  <tbody>\n    <tr>\n      <th>5600</th>\n      <td>1.16177</td>\n      <td>1.16782</td>\n      <td>1.16130</td>\n      <td>1.16559</td>\n      <td>79755</td>\n    </tr>\n    <tr>\n      <th>5601</th>\n      <td>1.16559</td>\n      <td>1.16906</td>\n      <td>1.15991</td>\n      <td>1.16066</td>\n      <td>69187</td>\n    </tr>\n    <tr>\n      <th>5602</th>\n      <td>1.16097</td>\n      <td>1.16241</td>\n      <td>1.15802</td>\n      <td>1.16089</td>\n      <td>66254</td>\n    </tr>\n    <tr>\n      <th>5603</th>\n      <td>1.16091</td>\n      <td>1.16157</td>\n      <td>1.15540</td>\n      <td>1.15854</td>\n      <td>73309</td>\n    </tr>\n    <tr>\n      <th>5604</th>\n      <td>1.15854</td>\n      <td>1.16110</td>\n      <td>1.15792</td>\n      <td>1.15943</td>\n      <td>59168</td>\n    </tr>\n    <tr>\n      <th>...</th>\n      <td>...</td>\n      <td>...</td>\n      <td>...</td>\n      <td>...</td>\n      <td>...</td>\n    </tr>\n    <tr>\n      <th>6219</th>\n      <td>1.08797</td>\n      <td>1.10586</td>\n      <td>1.08700</td>\n      <td>1.10291</td>\n      <td>149438</td>\n    </tr>\n    <tr>\n      <th>6220</th>\n      <td>1.10290</td>\n      <td>1.11470</td>\n      <td>1.09533</td>\n      <td>1.11431</td>\n      <td>139186</td>\n    </tr>\n    <tr>\n      <th>6221</th>\n      <td>1.11159</td>\n      <td>1.11439</td>\n      <td>1.10099</td>\n      <td>1.10427</td>\n      <td>109850</td>\n    </tr>\n    <tr>\n      <th>6222</th>\n      <td>1.10414</td>\n      <td>1.10537</td>\n      <td>1.09266</td>\n      <td>1.10349</td>\n      <td>132367</td>\n    </tr>\n    <tr>\n      <th>6223</th>\n      <td>1.10299</td>\n      <td>1.10390</td>\n      <td>1.10161</td>\n      <td>1.10275</td>\n      <td>2554</td>\n    </tr>\n  </tbody>\n</table>\n<p>624 rows × 5 columns</p>\n</div>"
     },
     "metadata": {},
     "execution_count": 18
    }
   ],
   "source": [
    "testing = data[5600:]\n",
    "testing"
   ]
  },
  {
   "cell_type": "code",
   "execution_count": 37,
   "metadata": {},
   "outputs": [
    {
     "output_type": "execute_result",
     "data": {
      "text/plain": [
       "array([[0.59199793, 0.58973029, 0.60322032, 0.59560155, 0.00171112],\n",
       "       [0.59562346, 0.58998963, 0.59104595, 0.58098318, 0.0051669 ],\n",
       "       [0.58073288, 0.58428423, 0.59183139, 0.58835705, 0.00369064],\n",
       "       ...,\n",
       "       [0.43161984, 0.43202801, 0.44067286, 0.43771022, 0.19872102],\n",
       "       [0.43743364, 0.43246888, 0.44479644, 0.43708926, 0.19351722],\n",
       "       [0.43676033, 0.43196317, 0.44237466, 0.43355757, 0.23971401]])"
      ]
     },
     "metadata": {},
     "execution_count": 37
    }
   ],
   "source": [
    "scaler = MinMaxScaler()\n",
    "training = scaler.fit_transform(training)\n",
    "training"
   ]
  },
  {
   "cell_type": "code",
   "execution_count": 20,
   "metadata": {},
   "outputs": [],
   "source": [
    "X_train = []\n",
    "y_train = []\n",
    "\n",
    "for i in range(60, training.shape[0]):\n",
    "    X_train.append(training[i-60:i])\n",
    "    y_train.append(training[i, 0])\n",
    "    \n",
    "X_train, y_train = np.array(X_train), np.array(y_train)"
   ]
  },
  {
   "cell_type": "code",
   "execution_count": 21,
   "metadata": {},
   "outputs": [],
   "source": [
    "from tensorflow.keras import Sequential\n",
    "from tensorflow.keras.layers import Dense, LSTM, Dropout\n",
    "\n",
    "regressor = Sequential()\n",
    "\n",
    "regressor.add(LSTM(units = 60, activation = 'relu', return_sequences = True, input_shape = (X_train.shape[1], 5)))\n",
    "regressor.add(Dropout(0.2))\n",
    "\n",
    "regressor.add(LSTM(units = 60, activation = 'relu', return_sequences = True))\n",
    "regressor.add(Dropout(0.2))\n",
    "\n",
    "regressor.add(LSTM(units = 80, activation = 'relu', return_sequences = True))\n",
    "regressor.add(Dropout(0.2))\n",
    "\n",
    "regressor.add(LSTM(units = 120, activation = 'relu'))\n",
    "regressor.add(Dropout(0.2))\n",
    "\n",
    "regressor.add(Dense(units = 1))"
   ]
  },
  {
   "cell_type": "code",
   "execution_count": 22,
   "metadata": {},
   "outputs": [
    {
     "output_type": "stream",
     "name": "stdout",
     "text": [
      "174/174 [==============================] - 41s 238ms/step - loss: 0.0138\n"
     ]
    },
    {
     "output_type": "execute_result",
     "data": {
      "text/plain": [
       "<tensorflow.python.keras.callbacks.History at 0x7f5adf1e9160>"
      ]
     },
     "metadata": {},
     "execution_count": 22
    }
   ],
   "source": [
    "regressor.compile(optimizer='adam', loss = 'mean_squared_error')\n",
    "regressor.fit(X_train, y_train, epochs=1, batch_size=32)"
   ]
  },
  {
   "cell_type": "code",
   "execution_count": 44,
   "metadata": {},
   "outputs": [
    {
     "output_type": "execute_result",
     "data": {
      "text/plain": [
       "          0  Close  High  Low  Open  Volume\n",
       "0  0.451094    NaN   NaN  NaN   NaN     NaN\n",
       "1  0.448522    NaN   NaN  NaN   NaN     NaN\n",
       "2  0.455151    NaN   NaN  NaN   NaN     NaN\n",
       "3  0.453493    NaN   NaN  NaN   NaN     NaN\n",
       "4  0.355251    NaN   NaN  NaN   NaN     NaN"
      ],
      "text/html": "<div>\n<style scoped>\n    .dataframe tbody tr th:only-of-type {\n        vertical-align: middle;\n    }\n\n    .dataframe tbody tr th {\n        vertical-align: top;\n    }\n\n    .dataframe thead th {\n        text-align: right;\n    }\n</style>\n<table border=\"1\" class=\"dataframe\">\n  <thead>\n    <tr style=\"text-align: right;\">\n      <th></th>\n      <th>0</th>\n      <th>Close</th>\n      <th>High</th>\n      <th>Low</th>\n      <th>Open</th>\n      <th>Volume</th>\n    </tr>\n  </thead>\n  <tbody>\n    <tr>\n      <th>0</th>\n      <td>0.451094</td>\n      <td>NaN</td>\n      <td>NaN</td>\n      <td>NaN</td>\n      <td>NaN</td>\n      <td>NaN</td>\n    </tr>\n    <tr>\n      <th>1</th>\n      <td>0.448522</td>\n      <td>NaN</td>\n      <td>NaN</td>\n      <td>NaN</td>\n      <td>NaN</td>\n      <td>NaN</td>\n    </tr>\n    <tr>\n      <th>2</th>\n      <td>0.455151</td>\n      <td>NaN</td>\n      <td>NaN</td>\n      <td>NaN</td>\n      <td>NaN</td>\n      <td>NaN</td>\n    </tr>\n    <tr>\n      <th>3</th>\n      <td>0.453493</td>\n      <td>NaN</td>\n      <td>NaN</td>\n      <td>NaN</td>\n      <td>NaN</td>\n      <td>NaN</td>\n    </tr>\n    <tr>\n      <th>4</th>\n      <td>0.355251</td>\n      <td>NaN</td>\n      <td>NaN</td>\n      <td>NaN</td>\n      <td>NaN</td>\n      <td>NaN</td>\n    </tr>\n  </tbody>\n</table>\n</div>"
     },
     "metadata": {},
     "execution_count": 44
    }
   ],
   "source": [
    "past_60_days = pd.DataFrame(data=training[-60:].flatten())\n",
    "df = past_60_days.append(testing, ignore_index = False)\n",
    "df.head()"
   ]
  },
  {
   "cell_type": "code",
   "execution_count": 13,
   "metadata": {},
   "outputs": [
    {
     "output_type": "error",
     "ename": "NameError",
     "evalue": "name 'df' is not defined",
     "traceback": [
      "\u001b[0;31m---------------------------------------------------------------------------\u001b[0m",
      "\u001b[0;31mNameError\u001b[0m                                 Traceback (most recent call last)",
      "\u001b[0;32m<ipython-input-13-c23492dd56fe>\u001b[0m in \u001b[0;36m<module>\u001b[0;34m\u001b[0m\n\u001b[0;32m----> 1\u001b[0;31m \u001b[0minputs\u001b[0m \u001b[0;34m=\u001b[0m \u001b[0mscaler\u001b[0m\u001b[0;34m.\u001b[0m\u001b[0mtransform\u001b[0m\u001b[0;34m(\u001b[0m\u001b[0mdf\u001b[0m\u001b[0;34m)\u001b[0m\u001b[0;34m\u001b[0m\u001b[0;34m\u001b[0m\u001b[0m\n\u001b[0m\u001b[1;32m      2\u001b[0m \u001b[0minputs\u001b[0m\u001b[0;34m\u001b[0m\u001b[0;34m\u001b[0m\u001b[0m\n",
      "\u001b[0;31mNameError\u001b[0m: name 'df' is not defined"
     ]
    }
   ],
   "source": [
    "inputs = scaler.transform(df)\n",
    "inputs"
   ]
  },
  {
   "cell_type": "code",
   "execution_count": null,
   "metadata": {},
   "outputs": [],
   "source": [
    "X_test = []\n",
    "y_test = []\n",
    "\n",
    "for i in range(60, inputs.shape[0]):\n",
    "    X_test.append(inputs[i-60:i])\n",
    "    y_test.append(inputs[i, 0])\n",
    "\n",
    "X_test, y_test = np.array(X_test), np.array(y_test)"
   ]
  },
  {
   "cell_type": "code",
   "execution_count": null,
   "metadata": {},
   "outputs": [],
   "source": [
    "y_pred = regressor.predict(X_test)"
   ]
  },
  {
   "cell_type": "code",
   "execution_count": null,
   "metadata": {},
   "outputs": [],
   "source": [
    "scaler.scale_"
   ]
  }
 ]
}